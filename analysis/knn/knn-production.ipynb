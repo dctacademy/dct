{
 "cells": [
  {
   "cell_type": "markdown",
   "metadata": {},
   "source": [
    "# Assignment \"Assignment\" System for DCT Academy's Code Platform"
   ]
  },
  {
   "cell_type": "code",
   "execution_count": 1,
   "metadata": {},
   "outputs": [],
   "source": [
    "import numpy as np\n",
    "import pandas as pd\n",
    "import matplotlib.pyplot as plt\n",
    "from sqlalchemy import create_engine\n",
    "from sklearn.neighbors import NearestNeighbors\n",
    "import pickle"
   ]
  },
  {
   "cell_type": "code",
   "execution_count": 2,
   "metadata": {},
   "outputs": [],
   "source": [
    "user_submissions_dummy_pivot = pd.read_csv('user_sub_pivot.csv', index_col='title')"
   ]
  },
  {
   "cell_type": "code",
   "execution_count": 3,
   "metadata": {},
   "outputs": [],
   "source": [
    "filename = 'finalized_knn_model.dat'\n",
    "loaded_knn_model = pickle.load(open(filename, 'rb'))"
   ]
  },
  {
   "cell_type": "code",
   "execution_count": 4,
   "metadata": {},
   "outputs": [],
   "source": [
    "query_index = np.random.choice(user_submissions_dummy_pivot.shape[0])\n",
    "distances, indices = loaded_knn_model.kneighbors(user_submissions_dummy_pivot.iloc[query_index, :].values.reshape(1, -1), n_neighbors = 6)"
   ]
  },
  {
   "cell_type": "code",
   "execution_count": 5,
   "metadata": {},
   "outputs": [
    {
     "name": "stdout",
     "output_type": "stream",
     "text": [
      "61\n",
      "[[0.         0.04417369 0.14965837 0.18806111 0.24196958 0.25587296]]\n",
      "[[61 49 75 93 77 47]]\n"
     ]
    }
   ],
   "source": [
    "print(query_index)\n",
    "print(distances)\n",
    "print(indices)"
   ]
  },
  {
   "cell_type": "code",
   "execution_count": 6,
   "metadata": {},
   "outputs": [
    {
     "name": "stdout",
     "output_type": "stream",
     "text": [
      "Recommendations for: \n",
      "\n",
      "\u001b[1mOpposite number:\n",
      "\n",
      "\u001b[0m1. Is it a number? ---------- with correlation of 0.04417368512870068\n",
      "\u001b[0m2. Rotate an Array ---------- with correlation of 0.14965837476520982\n",
      "\u001b[0m3. Temperature Converter ---------- with correlation of 0.1880611050963702\n",
      "\u001b[0m4. Say Again ---------- with correlation of 0.2419695793384189\n",
      "\u001b[0m5. If you can't sleep, just count sheeps!! ---------- with correlation of 0.2558729578880198\n"
     ]
    }
   ],
   "source": [
    "for i in range(0, len(distances.flatten())):\n",
    "    if i == 0:\n",
    "        print('Recommendations for: \\n\\n\\033[1m{0}:\\n'.format(user_submissions_dummy_pivot.index[query_index]))\n",
    "    else:\n",
    "        print('\\033[0m{0}. {1} ---------- with correlation of {2}'.format(i, user_submissions_dummy_pivot.index[indices.flatten()[i]], distances.flatten()[i]))"
   ]
  }
 ],
 "metadata": {
  "kernelspec": {
   "display_name": "Python 3",
   "language": "python",
   "name": "python3"
  },
  "language_info": {
   "codemirror_mode": {
    "name": "ipython",
    "version": 3
   },
   "file_extension": ".py",
   "mimetype": "text/x-python",
   "name": "python",
   "nbconvert_exporter": "python",
   "pygments_lexer": "ipython3",
   "version": "3.6.6"
  }
 },
 "nbformat": 4,
 "nbformat_minor": 2
}
