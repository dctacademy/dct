{
 "cells": [
  {
   "cell_type": "markdown",
   "metadata": {},
   "source": [
    "# Assignment \"Assignment\" System for DCT Academy's Code Platform"
   ]
  },
  {
   "cell_type": "code",
   "execution_count": 1,
   "metadata": {},
   "outputs": [],
   "source": [
    "import numpy as np\n",
    "import pandas as pd\n",
    "import matplotlib.pyplot as plt\n",
    "from sqlalchemy import create_engine\n",
    "from sklearn.neighbors import NearestNeighbors\n",
    "import pickle"
   ]
  },
  {
   "cell_type": "code",
   "execution_count": 2,
   "metadata": {},
   "outputs": [],
   "source": [
    "user_submissions_dummy_pivot = pd.read_csv('user_sub_pivot.csv', index_col='title')"
   ]
  },
  {
   "cell_type": "code",
   "execution_count": 3,
   "metadata": {},
   "outputs": [],
   "source": [
    "filename = 'finalized_knn_model.dat'\n",
    "loaded_knn_model = pickle.load(open(filename, 'rb'))"
   ]
  },
  {
   "cell_type": "code",
   "execution_count": 4,
   "metadata": {},
   "outputs": [],
   "source": [
    "query_index = np.random.choice(user_submissions_dummy_pivot.shape[0])\n",
    "distances, indices = loaded_knn_model.kneighbors(user_submissions_dummy_pivot.iloc[query_index, :].values.reshape(1, -1), n_neighbors = 6)"
   ]
  },
  {
   "cell_type": "code",
   "execution_count": 5,
   "metadata": {},
   "outputs": [
    {
     "name": "stdout",
     "output_type": "stream",
     "text": [
      "50\n",
      "[[0.00000000e+00 2.92036481e-04 1.64714588e-01 4.49707755e-01\n",
      "  5.89660852e-01 7.94025562e-01]]\n",
      "[[ 50   8 103  74  83   3]]\n"
     ]
    }
   ],
   "source": [
    "print(query_index)\n",
    "print(distances)\n",
    "print(indices)"
   ]
  },
  {
   "cell_type": "code",
   "execution_count": 6,
   "metadata": {},
   "outputs": [
    {
     "name": "stdout",
     "output_type": "stream",
     "text": [
      "Recommendations for Isogram:\n",
      "\n",
      "1: Best Travel, ---------- with distance of 0.00029203648115549985:\n",
      "2: Wheel of Fortune, ---------- with distance of 0.16471458785216553:\n",
      "3: Roman Numeral, ---------- with distance of 0.44970775491018633:\n",
      "4: Stock Portfolio, ---------- with distance of 0.5896608515659172:\n",
      "5:  Unique Elements of two Arrays, ---------- with distance of 0.7940255620564012:\n"
     ]
    }
   ],
   "source": [
    "for i in range(0, len(distances.flatten())):\n",
    "    if i == 0:\n",
    "        print('Recommendations for {0}:\\n'.format(user_submissions_dummy_pivot.index[query_index]))\n",
    "    else:\n",
    "        print('{0}: {1}, ---------- with distance of {2}:'.format(i, user_submissions_dummy_pivot.index[indices.flatten()[i]], distances.flatten()[i]))"
   ]
  }
 ],
 "metadata": {
  "kernelspec": {
   "display_name": "Python 3",
   "language": "python",
   "name": "python3"
  },
  "language_info": {
   "codemirror_mode": {
    "name": "ipython",
    "version": 3
   },
   "file_extension": ".py",
   "mimetype": "text/x-python",
   "name": "python",
   "nbconvert_exporter": "python",
   "pygments_lexer": "ipython3",
   "version": "3.6.6"
  }
 },
 "nbformat": 4,
 "nbformat_minor": 2
}
