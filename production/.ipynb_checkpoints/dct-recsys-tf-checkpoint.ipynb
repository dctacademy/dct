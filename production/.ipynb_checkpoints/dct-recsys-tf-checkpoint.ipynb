{
 "cells": [
  {
   "cell_type": "markdown",
   "metadata": {},
   "source": [
    "# Assignment \"Assignment\" System for DCT Academy's Code Platform"
   ]
  },
  {
   "cell_type": "code",
   "execution_count": 1,
   "metadata": {},
   "outputs": [],
   "source": [
    "import numpy as np\n",
    "import pandas as pd\n",
    "import matplotlib.pyplot as plt\n",
    "from sqlalchemy import create_engine\n",
    "import scipy.sparse as sparse\n",
    "from sklearn.externals import joblib\n",
    "from sklearn import metrics\n",
    "from sklearn.preprocessing import StandardScaler\n",
    "from sklearn.model_selection import GridSearchCV\n",
    "import random\n",
    "import implicit\n",
    "import requests\n",
    "import json"
   ]
  },
  {
   "cell_type": "markdown",
   "metadata": {},
   "source": [
    "## Creating list of dataframe of all tables, a dictionary mapping to corresponding dataframe"
   ]
  },
  {
   "cell_type": "code",
   "execution_count": 2,
   "metadata": {},
   "outputs": [],
   "source": [
    "# Dictionary of all the tables and their columns\n",
    "table_columns = {}\n",
    "\n",
    "# Dictionary of all dataframes mapped with table names\n",
    "df_all = {}\n",
    "\n",
    "# List of all dataframes of all tables\n",
    "df_list = []\n",
    "\n",
    "request_tables = ['submissions', 'assignments', 'tags', 'taggings']\n",
    "\n",
    "for table in request_tables:\n",
    "    url = 'http://code.dctacademy.com/api/v1/ml/data/' + table + '?key=6eccc23db96ed84fce329e0d20bdacb4'\n",
    "    response = requests.get(url)\n",
    "#     print(response.status_code, response.reason)\n",
    "    df_all[table] = pd.read_json(response.content)\n",
    "    \n",
    "model_path = '../ml-api/model/'"
   ]
  },
  {
   "cell_type": "markdown",
   "metadata": {},
   "source": [
    "## Get all student/user assignments\n",
    "### Merge submissions, assignments, taggings, tags"
   ]
  },
  {
   "cell_type": "code",
   "execution_count": 3,
   "metadata": {},
   "outputs": [],
   "source": [
    "user_submissions = df_all['submissions'] \\\n",
    "    .merge(df_all['assignments'], left_on='assignment_id', right_on='id', suffixes=('_submissions', '_assignments')) \\\n",
    "    .merge(df_all['taggings'], left_on='id_assignments', right_on='taggable_id', suffixes=('_sub_ass', '_taggings')) \\\n",
    "    .merge(df_all['tags'], left_on='tag_id', right_on='id', suffixes=('_sub_ass_tag', '_tags')) \n",
    "\n",
    "submission_assignments = df_all['submissions'] \\\n",
    "    .merge(df_all['assignments'], left_on='assignment_id', right_on='id', suffixes=('_submissions', '_assignments'))\n",
    "\n",
    "user_submissions.drop(['statement', 'output', 'language', 'created_at_submissions', 'updated_at_submissions', 'is_checked', 'body', 'url', \n",
    "                       'created_at_assignments', 'updated_at_assignments', 'pass', 'fail', 'tagger_type', 'created_at', 'total', 'practice_id', \n",
    "                       'assignment_id', 'user_id_assignments', 'code_assignments', 'tagger_id', 'tag_id', 'source', 'input_size',\n",
    "                       'approved', 'function_name', 'context', 'id_sub_ass_tag', 'taggings_count', 'is_allowed'], axis=1, inplace=True)"
   ]
  },
  {
   "cell_type": "code",
   "execution_count": 4,
   "metadata": {},
   "outputs": [
    {
     "data": {
      "text/plain": [
       "Index(['code_submissions', 'id_submissions', 'points_submissions',\n",
       "       'time_in_seconds', 'user_id_submissions', 'display_helper',\n",
       "       'id_assignments', 'is_front_end', 'minutes', 'points_assignments',\n",
       "       'title', 'taggable_id', 'taggable_type', 'id_tags', 'name'],\n",
       "      dtype='object')"
      ]
     },
     "execution_count": 4,
     "metadata": {},
     "output_type": "execute_result"
    }
   ],
   "source": [
    "user_submissions.columns"
   ]
  },
  {
   "cell_type": "code",
   "execution_count": 5,
   "metadata": {},
   "outputs": [],
   "source": [
    "user_submissions = user_submissions[user_submissions['taggable_type'] == 'Assignment']"
   ]
  },
  {
   "cell_type": "code",
   "execution_count": 6,
   "metadata": {},
   "outputs": [
    {
     "data": {
      "text/html": [
       "<div>\n",
       "<style scoped>\n",
       "    .dataframe tbody tr th:only-of-type {\n",
       "        vertical-align: middle;\n",
       "    }\n",
       "\n",
       "    .dataframe tbody tr th {\n",
       "        vertical-align: top;\n",
       "    }\n",
       "\n",
       "    .dataframe thead th {\n",
       "        text-align: right;\n",
       "    }\n",
       "</style>\n",
       "<table border=\"1\" class=\"dataframe\">\n",
       "  <thead>\n",
       "    <tr style=\"text-align: right;\">\n",
       "      <th></th>\n",
       "      <th>code_submissions</th>\n",
       "      <th>id_submissions</th>\n",
       "      <th>points_submissions</th>\n",
       "      <th>time_in_seconds</th>\n",
       "      <th>user_id_submissions</th>\n",
       "      <th>display_helper</th>\n",
       "      <th>id_assignments</th>\n",
       "      <th>is_front_end</th>\n",
       "      <th>minutes</th>\n",
       "      <th>points_assignments</th>\n",
       "      <th>title</th>\n",
       "      <th>taggable_id</th>\n",
       "      <th>taggable_type</th>\n",
       "      <th>id_tags</th>\n",
       "      <th>name</th>\n",
       "    </tr>\n",
       "  </thead>\n",
       "  <tbody>\n",
       "    <tr>\n",
       "      <th>0</th>\n",
       "      <td>{'statement': '#type ruby code here\n",
       "str1 = \"Vi...</td>\n",
       "      <td>5</td>\n",
       "      <td>0.0</td>\n",
       "      <td>0</td>\n",
       "      <td>11</td>\n",
       "      <td>{\"function_name\":null,\"input_size\":null}</td>\n",
       "      <td>13</td>\n",
       "      <td>False</td>\n",
       "      <td>5</td>\n",
       "      <td>20</td>\n",
       "      <td>Merge two strings</td>\n",
       "      <td>13</td>\n",
       "      <td>Assignment</td>\n",
       "      <td>2</td>\n",
       "      <td>easy</td>\n",
       "    </tr>\n",
       "    <tr>\n",
       "      <th>1</th>\n",
       "      <td>{'statement': 'str1 =\"virat\"\n",
       "str2 = \"kohli\"\n",
       "\t\n",
       "...</td>\n",
       "      <td>4</td>\n",
       "      <td>0.0</td>\n",
       "      <td>0</td>\n",
       "      <td>13</td>\n",
       "      <td>{\"function_name\":null,\"input_size\":null}</td>\n",
       "      <td>13</td>\n",
       "      <td>False</td>\n",
       "      <td>5</td>\n",
       "      <td>20</td>\n",
       "      <td>Merge two strings</td>\n",
       "      <td>13</td>\n",
       "      <td>Assignment</td>\n",
       "      <td>2</td>\n",
       "      <td>easy</td>\n",
       "    </tr>\n",
       "    <tr>\n",
       "      <th>2</th>\n",
       "      <td>{'statement': 'def merge_strings(str1, str2)\n",
       "\t...</td>\n",
       "      <td>13</td>\n",
       "      <td>0.0</td>\n",
       "      <td>0</td>\n",
       "      <td>18</td>\n",
       "      <td>{\"function_name\":null,\"input_size\":null}</td>\n",
       "      <td>13</td>\n",
       "      <td>False</td>\n",
       "      <td>5</td>\n",
       "      <td>20</td>\n",
       "      <td>Merge two strings</td>\n",
       "      <td>13</td>\n",
       "      <td>Assignment</td>\n",
       "      <td>2</td>\n",
       "      <td>easy</td>\n",
       "    </tr>\n",
       "    <tr>\n",
       "      <th>3</th>\n",
       "      <td>{'statement': 'class Test\n",
       "\tdef merge(data1, da...</td>\n",
       "      <td>14</td>\n",
       "      <td>0.0</td>\n",
       "      <td>0</td>\n",
       "      <td>17</td>\n",
       "      <td>{\"function_name\":null,\"input_size\":null}</td>\n",
       "      <td>13</td>\n",
       "      <td>False</td>\n",
       "      <td>5</td>\n",
       "      <td>20</td>\n",
       "      <td>Merge two strings</td>\n",
       "      <td>13</td>\n",
       "      <td>Assignment</td>\n",
       "      <td>2</td>\n",
       "      <td>easy</td>\n",
       "    </tr>\n",
       "    <tr>\n",
       "      <th>4</th>\n",
       "      <td>{'statement': '#type ruby code here\n",
       "def merge(...</td>\n",
       "      <td>12</td>\n",
       "      <td>0.0</td>\n",
       "      <td>0</td>\n",
       "      <td>19</td>\n",
       "      <td>{\"function_name\":null,\"input_size\":null}</td>\n",
       "      <td>13</td>\n",
       "      <td>False</td>\n",
       "      <td>5</td>\n",
       "      <td>20</td>\n",
       "      <td>Merge two strings</td>\n",
       "      <td>13</td>\n",
       "      <td>Assignment</td>\n",
       "      <td>2</td>\n",
       "      <td>easy</td>\n",
       "    </tr>\n",
       "  </tbody>\n",
       "</table>\n",
       "</div>"
      ],
      "text/plain": [
       "                                    code_submissions  id_submissions  \\\n",
       "0  {'statement': '#type ruby code here\n",
       "str1 = \"Vi...               5   \n",
       "1  {'statement': 'str1 =\"virat\"\n",
       "str2 = \"kohli\"\n",
       "\t\n",
       "...               4   \n",
       "2  {'statement': 'def merge_strings(str1, str2)\n",
       "\t...              13   \n",
       "3  {'statement': 'class Test\n",
       "\tdef merge(data1, da...              14   \n",
       "4  {'statement': '#type ruby code here\n",
       "def merge(...              12   \n",
       "\n",
       "   points_submissions  time_in_seconds  user_id_submissions  \\\n",
       "0                 0.0                0                   11   \n",
       "1                 0.0                0                   13   \n",
       "2                 0.0                0                   18   \n",
       "3                 0.0                0                   17   \n",
       "4                 0.0                0                   19   \n",
       "\n",
       "                             display_helper  id_assignments  is_front_end  \\\n",
       "0  {\"function_name\":null,\"input_size\":null}              13         False   \n",
       "1  {\"function_name\":null,\"input_size\":null}              13         False   \n",
       "2  {\"function_name\":null,\"input_size\":null}              13         False   \n",
       "3  {\"function_name\":null,\"input_size\":null}              13         False   \n",
       "4  {\"function_name\":null,\"input_size\":null}              13         False   \n",
       "\n",
       "   minutes  points_assignments              title  taggable_id taggable_type  \\\n",
       "0        5                  20  Merge two strings           13    Assignment   \n",
       "1        5                  20  Merge two strings           13    Assignment   \n",
       "2        5                  20  Merge two strings           13    Assignment   \n",
       "3        5                  20  Merge two strings           13    Assignment   \n",
       "4        5                  20  Merge two strings           13    Assignment   \n",
       "\n",
       "   id_tags  name  \n",
       "0        2  easy  \n",
       "1        2  easy  \n",
       "2        2  easy  \n",
       "3        2  easy  \n",
       "4        2  easy  "
      ]
     },
     "execution_count": 6,
     "metadata": {},
     "output_type": "execute_result"
    }
   ],
   "source": [
    "user_submissions.head()"
   ]
  },
  {
   "cell_type": "code",
   "execution_count": 7,
   "metadata": {},
   "outputs": [
    {
     "data": {
      "text/html": [
       "<div>\n",
       "<style scoped>\n",
       "    .dataframe tbody tr th:only-of-type {\n",
       "        vertical-align: middle;\n",
       "    }\n",
       "\n",
       "    .dataframe tbody tr th {\n",
       "        vertical-align: top;\n",
       "    }\n",
       "\n",
       "    .dataframe thead th {\n",
       "        text-align: right;\n",
       "    }\n",
       "</style>\n",
       "<table border=\"1\" class=\"dataframe\">\n",
       "  <thead>\n",
       "    <tr style=\"text-align: right;\">\n",
       "      <th></th>\n",
       "      <th>id_submissions</th>\n",
       "      <th>points_submissions</th>\n",
       "      <th>time_in_seconds</th>\n",
       "      <th>user_id_submissions</th>\n",
       "      <th>id_assignments</th>\n",
       "      <th>minutes</th>\n",
       "      <th>points_assignments</th>\n",
       "      <th>taggable_id</th>\n",
       "      <th>id_tags</th>\n",
       "    </tr>\n",
       "  </thead>\n",
       "  <tbody>\n",
       "    <tr>\n",
       "      <th>count</th>\n",
       "      <td>8701.000000</td>\n",
       "      <td>8701.000000</td>\n",
       "      <td>8.701000e+03</td>\n",
       "      <td>8701.000000</td>\n",
       "      <td>8701.000000</td>\n",
       "      <td>8701.000000</td>\n",
       "      <td>8701.000000</td>\n",
       "      <td>8701.000000</td>\n",
       "      <td>8701.000000</td>\n",
       "    </tr>\n",
       "    <tr>\n",
       "      <th>mean</th>\n",
       "      <td>1662.449374</td>\n",
       "      <td>8.774844</td>\n",
       "      <td>9.560400e+04</td>\n",
       "      <td>53.485806</td>\n",
       "      <td>179.258476</td>\n",
       "      <td>16.463050</td>\n",
       "      <td>14.298357</td>\n",
       "      <td>179.258476</td>\n",
       "      <td>10.828296</td>\n",
       "    </tr>\n",
       "    <tr>\n",
       "      <th>std</th>\n",
       "      <td>989.399720</td>\n",
       "      <td>7.464829</td>\n",
       "      <td>4.859078e+05</td>\n",
       "      <td>21.210672</td>\n",
       "      <td>138.388489</td>\n",
       "      <td>9.179095</td>\n",
       "      <td>6.910274</td>\n",
       "      <td>138.388489</td>\n",
       "      <td>5.575475</td>\n",
       "    </tr>\n",
       "    <tr>\n",
       "      <th>min</th>\n",
       "      <td>1.000000</td>\n",
       "      <td>0.000000</td>\n",
       "      <td>-8.602800e+04</td>\n",
       "      <td>3.000000</td>\n",
       "      <td>13.000000</td>\n",
       "      <td>5.000000</td>\n",
       "      <td>10.000000</td>\n",
       "      <td>13.000000</td>\n",
       "      <td>2.000000</td>\n",
       "    </tr>\n",
       "    <tr>\n",
       "      <th>25%</th>\n",
       "      <td>809.000000</td>\n",
       "      <td>0.000000</td>\n",
       "      <td>3.680000e+02</td>\n",
       "      <td>37.000000</td>\n",
       "      <td>50.000000</td>\n",
       "      <td>10.000000</td>\n",
       "      <td>10.000000</td>\n",
       "      <td>50.000000</td>\n",
       "      <td>5.000000</td>\n",
       "    </tr>\n",
       "    <tr>\n",
       "      <th>50%</th>\n",
       "      <td>1625.000000</td>\n",
       "      <td>10.000000</td>\n",
       "      <td>1.169000e+03</td>\n",
       "      <td>51.000000</td>\n",
       "      <td>134.000000</td>\n",
       "      <td>15.000000</td>\n",
       "      <td>10.000000</td>\n",
       "      <td>134.000000</td>\n",
       "      <td>13.000000</td>\n",
       "    </tr>\n",
       "    <tr>\n",
       "      <th>75%</th>\n",
       "      <td>2457.000000</td>\n",
       "      <td>10.000000</td>\n",
       "      <td>6.352000e+03</td>\n",
       "      <td>68.000000</td>\n",
       "      <td>343.000000</td>\n",
       "      <td>20.000000</td>\n",
       "      <td>20.000000</td>\n",
       "      <td>343.000000</td>\n",
       "      <td>14.000000</td>\n",
       "    </tr>\n",
       "    <tr>\n",
       "      <th>max</th>\n",
       "      <td>3582.000000</td>\n",
       "      <td>50.000000</td>\n",
       "      <td>7.432507e+06</td>\n",
       "      <td>104.000000</td>\n",
       "      <td>421.000000</td>\n",
       "      <td>60.000000</td>\n",
       "      <td>50.000000</td>\n",
       "      <td>421.000000</td>\n",
       "      <td>27.000000</td>\n",
       "    </tr>\n",
       "  </tbody>\n",
       "</table>\n",
       "</div>"
      ],
      "text/plain": [
       "       id_submissions  points_submissions  time_in_seconds  \\\n",
       "count     8701.000000         8701.000000     8.701000e+03   \n",
       "mean      1662.449374            8.774844     9.560400e+04   \n",
       "std        989.399720            7.464829     4.859078e+05   \n",
       "min          1.000000            0.000000    -8.602800e+04   \n",
       "25%        809.000000            0.000000     3.680000e+02   \n",
       "50%       1625.000000           10.000000     1.169000e+03   \n",
       "75%       2457.000000           10.000000     6.352000e+03   \n",
       "max       3582.000000           50.000000     7.432507e+06   \n",
       "\n",
       "       user_id_submissions  id_assignments      minutes  points_assignments  \\\n",
       "count          8701.000000     8701.000000  8701.000000         8701.000000   \n",
       "mean             53.485806      179.258476    16.463050           14.298357   \n",
       "std              21.210672      138.388489     9.179095            6.910274   \n",
       "min               3.000000       13.000000     5.000000           10.000000   \n",
       "25%              37.000000       50.000000    10.000000           10.000000   \n",
       "50%              51.000000      134.000000    15.000000           10.000000   \n",
       "75%              68.000000      343.000000    20.000000           20.000000   \n",
       "max             104.000000      421.000000    60.000000           50.000000   \n",
       "\n",
       "       taggable_id      id_tags  \n",
       "count  8701.000000  8701.000000  \n",
       "mean    179.258476    10.828296  \n",
       "std     138.388489     5.575475  \n",
       "min      13.000000     2.000000  \n",
       "25%      50.000000     5.000000  \n",
       "50%     134.000000    13.000000  \n",
       "75%     343.000000    14.000000  \n",
       "max     421.000000    27.000000  "
      ]
     },
     "execution_count": 7,
     "metadata": {},
     "output_type": "execute_result"
    }
   ],
   "source": [
    "user_submissions.describe()"
   ]
  },
  {
   "cell_type": "markdown",
   "metadata": {},
   "source": [
    "### Cleaning tags and categories"
   ]
  },
  {
   "cell_type": "code",
   "execution_count": 8,
   "metadata": {},
   "outputs": [],
   "source": [
    "user_submissions['name'] = user_submissions['name'].str.strip().replace('/',',')"
   ]
  },
  {
   "cell_type": "code",
   "execution_count": 9,
   "metadata": {},
   "outputs": [
    {
     "data": {
      "image/png": "[encoded data removed]",
      "text/plain": [
       "<Figure size 1440x720 with 1 Axes>"
      ]
     },
     "metadata": {},
     "output_type": "display_data"
    }
   ],
   "source": [
    "plt.figure(figsize=(20, 10))\n",
    "plt.xticks(rotation='30')\n",
    "plt.hist(user_submissions['time_in_seconds'], bins=np.arange(0, 5000000, 200000))\n",
    "plt.title('Distribution of Time for submissions')\n",
    "plt.xlabel('Time distribution')\n",
    "plt.ylabel('No of Assignments')\n",
    "plt.show()"
   ]
  },
  {
   "cell_type": "code",
   "execution_count": 10,
   "metadata": {},
   "outputs": [
    {
     "data": {
      "image/png": "[encoded data removed]",
      "text/plain": [
       "<Figure size 1440x720 with 1 Axes>"
      ]
     },
     "metadata": {},
     "output_type": "display_data"
    }
   ],
   "source": [
    "plt.figure(figsize=(20, 10))\n",
    "user_submissions.groupby(['name']).count()['time_in_seconds'].plot(kind='bar')\n",
    "plt.xticks(rotation='30')\n",
    "plt.title('Distribution of Tags/Categories')\n",
    "plt.xlabel('Tags')\n",
    "plt.ylabel('No of Assignments')\n",
    "plt.show()"
   ]
  },
  {
   "cell_type": "code",
   "execution_count": 11,
   "metadata": {},
   "outputs": [
    {
     "data": {
      "image/png": "[encoded data removed]",
      "text/plain": [
       "<Figure size 1440x720 with 1 Axes>"
      ]
     },
     "metadata": {},
     "output_type": "display_data"
    }
   ],
   "source": [
    "plt.figure(figsize=(20, 10))\n",
    "plt.plot(user_submissions['points_submissions'].sort_values(), user_submissions['time_in_seconds'].sort_values())\n",
    "plt.xticks(rotation='30')\n",
    "plt.title('Points vs Time')\n",
    "plt.xlabel('Points')\n",
    "plt.ylabel('Time')\n",
    "plt.show()"
   ]
  },
  {
   "cell_type": "code",
   "execution_count": 12,
   "metadata": {},
   "outputs": [
    {
     "data": {
      "text/plain": [
       "count       8701.000000\n",
       "mean       97513.408229\n",
       "std       485528.131601\n",
       "min            0.000000\n",
       "25%          419.000000\n",
       "50%         1327.000000\n",
       "75%         9448.000000\n",
       "max      7432507.000000\n",
       "Name: time_in_seconds, dtype: object"
      ]
     },
     "execution_count": 12,
     "metadata": {},
     "output_type": "execute_result"
    }
   ],
   "source": [
    "user_submissions['time_in_seconds'] = user_submissions['time_in_seconds'].abs()\n",
    "user_submissions['time_in_seconds'].describe().apply(lambda x: format(x, 'f'))"
   ]
  },
  {
   "cell_type": "markdown",
   "metadata": {},
   "source": [
    "### Removing all submissions with time greater than 100,000 seconds"
   ]
  },
  {
   "cell_type": "code",
   "execution_count": 13,
   "metadata": {},
   "outputs": [
    {
     "data": {
      "text/plain": [
       "count     8701.000000\n",
       "mean      8386.113895\n",
       "std      19386.682558\n",
       "min          0.000000\n",
       "25%        419.000000\n",
       "50%       1327.000000\n",
       "75%       3031.000000\n",
       "max      96941.000000\n",
       "Name: time_in_seconds, dtype: object"
      ]
     },
     "execution_count": 13,
     "metadata": {},
     "output_type": "execute_result"
    }
   ],
   "source": [
    "median = user_submissions['time_in_seconds'].median() \n",
    "user_submissions.loc[user_submissions.time_in_seconds > 100000, 'time_in_seconds'] = np.nan\n",
    "user_submissions.fillna(median, inplace=True)\n",
    "user_submissions['time_in_seconds'].describe().apply(lambda x: format(x, 'f'))"
   ]
  },
  {
   "cell_type": "markdown",
   "metadata": {},
   "source": [
    "### Getting submissions which are greater than 0 and lesser than 100000"
   ]
  },
  {
   "cell_type": "code",
   "execution_count": 14,
   "metadata": {},
   "outputs": [],
   "source": [
    "user_submissions = user_submissions[(user_submissions['time_in_seconds'] != 0) & (user_submissions['time_in_seconds'] < 100000)]"
   ]
  },
  {
   "cell_type": "markdown",
   "metadata": {},
   "source": [
    "### Top 20 fastest submissions"
   ]
  },
  {
   "cell_type": "code",
   "execution_count": 15,
   "metadata": {},
   "outputs": [
    {
     "data": {
      "text/html": [
       "<div>\n",
       "<style scoped>\n",
       "    .dataframe tbody tr th:only-of-type {\n",
       "        vertical-align: middle;\n",
       "    }\n",
       "\n",
       "    .dataframe tbody tr th {\n",
       "        vertical-align: top;\n",
       "    }\n",
       "\n",
       "    .dataframe thead th {\n",
       "        text-align: right;\n",
       "    }\n",
       "</style>\n",
       "<table border=\"1\" class=\"dataframe\">\n",
       "  <thead>\n",
       "    <tr style=\"text-align: right;\">\n",
       "      <th></th>\n",
       "      <th>title</th>\n",
       "      <th>time_in_seconds</th>\n",
       "    </tr>\n",
       "  </thead>\n",
       "  <tbody>\n",
       "    <tr>\n",
       "      <th>2205</th>\n",
       "      <td>Chop a string</td>\n",
       "      <td>7.0</td>\n",
       "    </tr>\n",
       "    <tr>\n",
       "      <th>4043</th>\n",
       "      <td>Chop a string</td>\n",
       "      <td>7.0</td>\n",
       "    </tr>\n",
       "    <tr>\n",
       "      <th>1049</th>\n",
       "      <td>Chop a string</td>\n",
       "      <td>7.0</td>\n",
       "    </tr>\n",
       "    <tr>\n",
       "      <th>3557</th>\n",
       "      <td>convert an object into a list of key-value pairs</td>\n",
       "      <td>15.0</td>\n",
       "    </tr>\n",
       "    <tr>\n",
       "      <th>12138</th>\n",
       "      <td>convert an object into a list of key-value pairs</td>\n",
       "      <td>15.0</td>\n",
       "    </tr>\n",
       "    <tr>\n",
       "      <th>4895</th>\n",
       "      <td>convert an object into a list of key-value pairs</td>\n",
       "      <td>15.0</td>\n",
       "    </tr>\n",
       "    <tr>\n",
       "      <th>9448</th>\n",
       "      <td>Max Of Three</td>\n",
       "      <td>27.0</td>\n",
       "    </tr>\n",
       "    <tr>\n",
       "      <th>1850</th>\n",
       "      <td>Max Of Three</td>\n",
       "      <td>27.0</td>\n",
       "    </tr>\n",
       "    <tr>\n",
       "      <th>10687</th>\n",
       "      <td>Max Of Three</td>\n",
       "      <td>27.0</td>\n",
       "    </tr>\n",
       "    <tr>\n",
       "      <th>3497</th>\n",
       "      <td>Opposite number</td>\n",
       "      <td>33.0</td>\n",
       "    </tr>\n",
       "    <tr>\n",
       "      <th>11179</th>\n",
       "      <td>Opposite number</td>\n",
       "      <td>33.0</td>\n",
       "    </tr>\n",
       "    <tr>\n",
       "      <th>13216</th>\n",
       "      <td>Temperature Converter</td>\n",
       "      <td>42.0</td>\n",
       "    </tr>\n",
       "    <tr>\n",
       "      <th>11013</th>\n",
       "      <td>Temperature Converter</td>\n",
       "      <td>42.0</td>\n",
       "    </tr>\n",
       "    <tr>\n",
       "      <th>2849</th>\n",
       "      <td>Temperature Converter</td>\n",
       "      <td>42.0</td>\n",
       "    </tr>\n",
       "    <tr>\n",
       "      <th>9977</th>\n",
       "      <td>Temperature Converter</td>\n",
       "      <td>42.0</td>\n",
       "    </tr>\n",
       "    <tr>\n",
       "      <th>11176</th>\n",
       "      <td>Opposite number</td>\n",
       "      <td>47.0</td>\n",
       "    </tr>\n",
       "    <tr>\n",
       "      <th>3494</th>\n",
       "      <td>Opposite number</td>\n",
       "      <td>47.0</td>\n",
       "    </tr>\n",
       "    <tr>\n",
       "      <th>13276</th>\n",
       "      <td>Find Even or Odd</td>\n",
       "      <td>52.0</td>\n",
       "    </tr>\n",
       "    <tr>\n",
       "      <th>11078</th>\n",
       "      <td>Find Even or Odd</td>\n",
       "      <td>52.0</td>\n",
       "    </tr>\n",
       "    <tr>\n",
       "      <th>11033</th>\n",
       "      <td>Century From Year</td>\n",
       "      <td>53.0</td>\n",
       "    </tr>\n",
       "  </tbody>\n",
       "</table>\n",
       "</div>"
      ],
      "text/plain": [
       "                                                  title  time_in_seconds\n",
       "2205                                      Chop a string              7.0\n",
       "4043                                      Chop a string              7.0\n",
       "1049                                      Chop a string              7.0\n",
       "3557   convert an object into a list of key-value pairs             15.0\n",
       "12138  convert an object into a list of key-value pairs             15.0\n",
       "4895   convert an object into a list of key-value pairs             15.0\n",
       "9448                                       Max Of Three             27.0\n",
       "1850                                       Max Of Three             27.0\n",
       "10687                                      Max Of Three             27.0\n",
       "3497                                    Opposite number             33.0\n",
       "11179                                   Opposite number             33.0\n",
       "13216                             Temperature Converter             42.0\n",
       "11013                             Temperature Converter             42.0\n",
       "2849                              Temperature Converter             42.0\n",
       "9977                              Temperature Converter             42.0\n",
       "11176                                   Opposite number             47.0\n",
       "3494                                    Opposite number             47.0\n",
       "13276                                  Find Even or Odd             52.0\n",
       "11078                                  Find Even or Odd             52.0\n",
       "11033                                 Century From Year             53.0"
      ]
     },
     "execution_count": 15,
     "metadata": {},
     "output_type": "execute_result"
    }
   ],
   "source": [
    "user_submissions[['title', 'time_in_seconds']].sort_values('time_in_seconds').head(20)"
   ]
  },
  {
   "cell_type": "markdown",
   "metadata": {},
   "source": [
    "### Top 20 slowest submissions"
   ]
  },
  {
   "cell_type": "code",
   "execution_count": 16,
   "metadata": {},
   "outputs": [
    {
     "data": {
      "text/html": [
       "<div>\n",
       "<style scoped>\n",
       "    .dataframe tbody tr th:only-of-type {\n",
       "        vertical-align: middle;\n",
       "    }\n",
       "\n",
       "    .dataframe tbody tr th {\n",
       "        vertical-align: top;\n",
       "    }\n",
       "\n",
       "    .dataframe thead th {\n",
       "        text-align: right;\n",
       "    }\n",
       "</style>\n",
       "<table border=\"1\" class=\"dataframe\">\n",
       "  <thead>\n",
       "    <tr style=\"text-align: right;\">\n",
       "      <th></th>\n",
       "      <th>title</th>\n",
       "      <th>time_in_seconds</th>\n",
       "    </tr>\n",
       "  </thead>\n",
       "  <tbody>\n",
       "    <tr>\n",
       "      <th>2508</th>\n",
       "      <td>First n elements in array</td>\n",
       "      <td>93643.0</td>\n",
       "    </tr>\n",
       "    <tr>\n",
       "      <th>8419</th>\n",
       "      <td>First n elements in array</td>\n",
       "      <td>93643.0</td>\n",
       "    </tr>\n",
       "    <tr>\n",
       "      <th>4239</th>\n",
       "      <td>First n elements in array</td>\n",
       "      <td>93643.0</td>\n",
       "    </tr>\n",
       "    <tr>\n",
       "      <th>571</th>\n",
       "      <td>Fill Array with index</td>\n",
       "      <td>94881.0</td>\n",
       "    </tr>\n",
       "    <tr>\n",
       "      <th>13152</th>\n",
       "      <td>Fill Array with index</td>\n",
       "      <td>94881.0</td>\n",
       "    </tr>\n",
       "    <tr>\n",
       "      <th>8399</th>\n",
       "      <td>Fill Array with index</td>\n",
       "      <td>94881.0</td>\n",
       "    </tr>\n",
       "    <tr>\n",
       "      <th>12135</th>\n",
       "      <td>convert an object into a list of key-value pairs</td>\n",
       "      <td>95267.0</td>\n",
       "    </tr>\n",
       "    <tr>\n",
       "      <th>4892</th>\n",
       "      <td>convert an object into a list of key-value pairs</td>\n",
       "      <td>95267.0</td>\n",
       "    </tr>\n",
       "    <tr>\n",
       "      <th>3554</th>\n",
       "      <td>convert an object into a list of key-value pairs</td>\n",
       "      <td>95267.0</td>\n",
       "    </tr>\n",
       "    <tr>\n",
       "      <th>4817</th>\n",
       "      <td>Unique Elements of two Arrays</td>\n",
       "      <td>95407.0</td>\n",
       "    </tr>\n",
       "    <tr>\n",
       "      <th>9019</th>\n",
       "      <td>Unique Elements of two Arrays</td>\n",
       "      <td>95407.0</td>\n",
       "    </tr>\n",
       "    <tr>\n",
       "      <th>3346</th>\n",
       "      <td>Unique Elements of two Arrays</td>\n",
       "      <td>95407.0</td>\n",
       "    </tr>\n",
       "    <tr>\n",
       "      <th>9915</th>\n",
       "      <td>Remove Zeros</td>\n",
       "      <td>95494.0</td>\n",
       "    </tr>\n",
       "    <tr>\n",
       "      <th>499</th>\n",
       "      <td>Remove Zeros</td>\n",
       "      <td>95494.0</td>\n",
       "    </tr>\n",
       "    <tr>\n",
       "      <th>10943</th>\n",
       "      <td>Remove Zeros</td>\n",
       "      <td>95494.0</td>\n",
       "    </tr>\n",
       "    <tr>\n",
       "      <th>9072</th>\n",
       "      <td>Find Product based on id</td>\n",
       "      <td>95959.0</td>\n",
       "    </tr>\n",
       "    <tr>\n",
       "      <th>11974</th>\n",
       "      <td>Find Product based on id</td>\n",
       "      <td>95959.0</td>\n",
       "    </tr>\n",
       "    <tr>\n",
       "      <th>736</th>\n",
       "      <td>Find Product based on id</td>\n",
       "      <td>95959.0</td>\n",
       "    </tr>\n",
       "    <tr>\n",
       "      <th>12464</th>\n",
       "      <td>DOM - Build a Table</td>\n",
       "      <td>96941.0</td>\n",
       "    </tr>\n",
       "    <tr>\n",
       "      <th>11536</th>\n",
       "      <td>DOM - Build a Table</td>\n",
       "      <td>96941.0</td>\n",
       "    </tr>\n",
       "  </tbody>\n",
       "</table>\n",
       "</div>"
      ],
      "text/plain": [
       "                                                  title  time_in_seconds\n",
       "2508                          First n elements in array          93643.0\n",
       "8419                          First n elements in array          93643.0\n",
       "4239                          First n elements in array          93643.0\n",
       "571                              Fill Array with index           94881.0\n",
       "13152                            Fill Array with index           94881.0\n",
       "8399                             Fill Array with index           94881.0\n",
       "12135  convert an object into a list of key-value pairs          95267.0\n",
       "4892   convert an object into a list of key-value pairs          95267.0\n",
       "3554   convert an object into a list of key-value pairs          95267.0\n",
       "4817                      Unique Elements of two Arrays          95407.0\n",
       "9019                      Unique Elements of two Arrays          95407.0\n",
       "3346                      Unique Elements of two Arrays          95407.0\n",
       "9915                                       Remove Zeros          95494.0\n",
       "499                                        Remove Zeros          95494.0\n",
       "10943                                      Remove Zeros          95494.0\n",
       "9072                           Find Product based on id          95959.0\n",
       "11974                          Find Product based on id          95959.0\n",
       "736                            Find Product based on id          95959.0\n",
       "12464                               DOM - Build a Table          96941.0\n",
       "11536                               DOM - Build a Table          96941.0"
      ]
     },
     "execution_count": 16,
     "metadata": {},
     "output_type": "execute_result"
    }
   ],
   "source": [
    "user_submissions[['title', 'time_in_seconds']].sort_values('time_in_seconds').tail(20)"
   ]
  },
  {
   "cell_type": "code",
   "execution_count": 17,
   "metadata": {},
   "outputs": [],
   "source": [
    "user_submissions.reset_index(inplace=True)"
   ]
  },
  {
   "cell_type": "markdown",
   "metadata": {},
   "source": [
    "### Creating the confidence column"
   ]
  },
  {
   "cell_type": "code",
   "execution_count": 18,
   "metadata": {},
   "outputs": [],
   "source": [
    "user_submissions['name'] = user_submissions['name'].apply(lambda x:x.lower())\n",
    "tags = df_all['tags']['name'].apply(lambda x:x.lower()).unique()\n",
    "tags.sort()\n",
    "tag_points = [10, 5, 15, 20, 15, 10, 25, 25, 25, 50, 20, 20, 100, 15, 20, 5, 5, 5, 75, 20, 15, 15, 5, 5, 10, 15, 5, 5]\n",
    "\n",
    "mapping = dict(zip(tags, tag_points))\n",
    "\n",
    "assignment_tags = user_submissions.groupby(['id_assignments']).aggregate(lambda x: list(set(x)))['name'].to_frame()\n",
    "assignment_points = assignment_tags['name'].apply(lambda x:[mapping[i] for i in x]).apply(lambda x:sum(x)).to_frame()"
   ]
  },
  {
   "cell_type": "code",
   "execution_count": 19,
   "metadata": {},
   "outputs": [],
   "source": [
    "user_submissions['assignment_points'] = user_submissions['id_assignments'].apply(lambda x: assignment_points.loc[x])\n",
    "user_submissions['confidence'] = ((user_submissions['points_submissions'] / user_submissions['points_assignments']) + (user_submissions['minutes'] / (user_submissions['time_in_seconds'] / 60))) * user_submissions['assignment_points']\n",
    "user_submissions['confidence'] = user_submissions['confidence'].abs()"
   ]
  },
  {
   "cell_type": "markdown",
   "metadata": {},
   "source": [
    "### Preparing for sparse matrix"
   ]
  },
  {
   "cell_type": "code",
   "execution_count": 20,
   "metadata": {},
   "outputs": [
    {
     "data": {
      "text/html": [
       "<div>\n",
       "<style scoped>\n",
       "    .dataframe tbody tr th:only-of-type {\n",
       "        vertical-align: middle;\n",
       "    }\n",
       "\n",
       "    .dataframe tbody tr th {\n",
       "        vertical-align: top;\n",
       "    }\n",
       "\n",
       "    .dataframe thead th {\n",
       "        text-align: right;\n",
       "    }\n",
       "</style>\n",
       "<table border=\"1\" class=\"dataframe\">\n",
       "  <thead>\n",
       "    <tr style=\"text-align: right;\">\n",
       "      <th></th>\n",
       "      <th>user_id_submissions</th>\n",
       "      <th>id_assignments</th>\n",
       "      <th>confidence</th>\n",
       "    </tr>\n",
       "  </thead>\n",
       "  <tbody>\n",
       "    <tr>\n",
       "      <th>0</th>\n",
       "      <td>3</td>\n",
       "      <td>23</td>\n",
       "      <td>129.310345</td>\n",
       "    </tr>\n",
       "    <tr>\n",
       "      <th>1</th>\n",
       "      <td>3</td>\n",
       "      <td>30</td>\n",
       "      <td>168.474576</td>\n",
       "    </tr>\n",
       "    <tr>\n",
       "      <th>2</th>\n",
       "      <td>3</td>\n",
       "      <td>33</td>\n",
       "      <td>97.222222</td>\n",
       "    </tr>\n",
       "    <tr>\n",
       "      <th>3</th>\n",
       "      <td>3</td>\n",
       "      <td>34</td>\n",
       "      <td>47.974414</td>\n",
       "    </tr>\n",
       "    <tr>\n",
       "      <th>4</th>\n",
       "      <td>3</td>\n",
       "      <td>44</td>\n",
       "      <td>9.042954</td>\n",
       "    </tr>\n",
       "  </tbody>\n",
       "</table>\n",
       "</div>"
      ],
      "text/plain": [
       "   user_id_submissions  id_assignments  confidence\n",
       "0                    3              23  129.310345\n",
       "1                    3              30  168.474576\n",
       "2                    3              33   97.222222\n",
       "3                    3              34   47.974414\n",
       "4                    3              44    9.042954"
      ]
     },
     "execution_count": 20,
     "metadata": {},
     "output_type": "execute_result"
    }
   ],
   "source": [
    "user_submissions = user_submissions.groupby(['user_id_submissions', 'id_assignments']).aggregate(lambda x:max(set(x)))['confidence'].reset_index()\n",
    "user_submissions.head()"
   ]
  },
  {
   "cell_type": "code",
   "execution_count": 21,
   "metadata": {},
   "outputs": [
    {
     "data": {
      "image/png": "[encoded data removed]",
      "text/plain": [
       "<Figure size 1440x720 with 1 Axes>"
      ]
     },
     "metadata": {},
     "output_type": "display_data"
    }
   ],
   "source": [
    "plt.figure(figsize=(20, 10))\n",
    "plt.xticks(rotation='30')\n",
    "plt.hist(user_submissions['confidence'])\n",
    "plt.title('Distribution of Confidence for submissions - Before Scaling')\n",
    "plt.xlabel('Confidence distribution')\n",
    "plt.ylabel('No of Assignments')\n",
    "plt.show()"
   ]
  },
  {
   "cell_type": "markdown",
   "metadata": {},
   "source": [
    "### Creating sparse matrix "
   ]
  },
  {
   "cell_type": "code",
   "execution_count": 22,
   "metadata": {},
   "outputs": [
    {
     "data": {
      "text/html": [
       "<div>\n",
       "<style scoped>\n",
       "    .dataframe tbody tr th:only-of-type {\n",
       "        vertical-align: middle;\n",
       "    }\n",
       "\n",
       "    .dataframe tbody tr th {\n",
       "        vertical-align: top;\n",
       "    }\n",
       "\n",
       "    .dataframe thead th {\n",
       "        text-align: right;\n",
       "    }\n",
       "</style>\n",
       "<table border=\"1\" class=\"dataframe\">\n",
       "  <thead>\n",
       "    <tr style=\"text-align: right;\">\n",
       "      <th>user_id_submissions</th>\n",
       "      <th>3</th>\n",
       "      <th>13</th>\n",
       "      <th>14</th>\n",
       "      <th>17</th>\n",
       "      <th>18</th>\n",
       "      <th>19</th>\n",
       "      <th>20</th>\n",
       "      <th>21</th>\n",
       "      <th>22</th>\n",
       "      <th>23</th>\n",
       "      <th>...</th>\n",
       "      <th>91</th>\n",
       "      <th>92</th>\n",
       "      <th>93</th>\n",
       "      <th>95</th>\n",
       "      <th>96</th>\n",
       "      <th>98</th>\n",
       "      <th>100</th>\n",
       "      <th>101</th>\n",
       "      <th>103</th>\n",
       "      <th>104</th>\n",
       "    </tr>\n",
       "    <tr>\n",
       "      <th>id_assignments</th>\n",
       "      <th></th>\n",
       "      <th></th>\n",
       "      <th></th>\n",
       "      <th></th>\n",
       "      <th></th>\n",
       "      <th></th>\n",
       "      <th></th>\n",
       "      <th></th>\n",
       "      <th></th>\n",
       "      <th></th>\n",
       "      <th></th>\n",
       "      <th></th>\n",
       "      <th></th>\n",
       "      <th></th>\n",
       "      <th></th>\n",
       "      <th></th>\n",
       "      <th></th>\n",
       "      <th></th>\n",
       "      <th></th>\n",
       "      <th></th>\n",
       "      <th></th>\n",
       "    </tr>\n",
       "  </thead>\n",
       "  <tbody>\n",
       "    <tr>\n",
       "      <th>14</th>\n",
       "      <td>0.000000</td>\n",
       "      <td>0.000000</td>\n",
       "      <td>0.000000</td>\n",
       "      <td>0.0</td>\n",
       "      <td>0.00000</td>\n",
       "      <td>0.000000</td>\n",
       "      <td>0.000000</td>\n",
       "      <td>0.000000</td>\n",
       "      <td>0.000000</td>\n",
       "      <td>0.0</td>\n",
       "      <td>...</td>\n",
       "      <td>0.000000</td>\n",
       "      <td>0.00000</td>\n",
       "      <td>0.0</td>\n",
       "      <td>0.0</td>\n",
       "      <td>0.000000</td>\n",
       "      <td>0.0</td>\n",
       "      <td>0.0</td>\n",
       "      <td>0.0</td>\n",
       "      <td>0.0</td>\n",
       "      <td>0.0</td>\n",
       "    </tr>\n",
       "    <tr>\n",
       "      <th>15</th>\n",
       "      <td>0.000000</td>\n",
       "      <td>0.000000</td>\n",
       "      <td>0.000000</td>\n",
       "      <td>0.0</td>\n",
       "      <td>0.00000</td>\n",
       "      <td>0.000000</td>\n",
       "      <td>0.000000</td>\n",
       "      <td>0.000000</td>\n",
       "      <td>0.000000</td>\n",
       "      <td>0.0</td>\n",
       "      <td>...</td>\n",
       "      <td>12.744164</td>\n",
       "      <td>0.00000</td>\n",
       "      <td>0.0</td>\n",
       "      <td>0.0</td>\n",
       "      <td>18.151846</td>\n",
       "      <td>0.0</td>\n",
       "      <td>0.0</td>\n",
       "      <td>0.0</td>\n",
       "      <td>0.0</td>\n",
       "      <td>0.0</td>\n",
       "    </tr>\n",
       "    <tr>\n",
       "      <th>17</th>\n",
       "      <td>0.000000</td>\n",
       "      <td>45.317221</td>\n",
       "      <td>18.796992</td>\n",
       "      <td>0.0</td>\n",
       "      <td>0.00000</td>\n",
       "      <td>0.000000</td>\n",
       "      <td>0.000000</td>\n",
       "      <td>7.299270</td>\n",
       "      <td>0.000000</td>\n",
       "      <td>0.0</td>\n",
       "      <td>...</td>\n",
       "      <td>0.000000</td>\n",
       "      <td>0.00000</td>\n",
       "      <td>0.0</td>\n",
       "      <td>0.0</td>\n",
       "      <td>0.000000</td>\n",
       "      <td>0.0</td>\n",
       "      <td>0.0</td>\n",
       "      <td>0.0</td>\n",
       "      <td>0.0</td>\n",
       "      <td>0.0</td>\n",
       "    </tr>\n",
       "    <tr>\n",
       "      <th>20</th>\n",
       "      <td>0.000000</td>\n",
       "      <td>0.000000</td>\n",
       "      <td>0.000000</td>\n",
       "      <td>0.0</td>\n",
       "      <td>0.00000</td>\n",
       "      <td>0.000000</td>\n",
       "      <td>0.000000</td>\n",
       "      <td>0.000000</td>\n",
       "      <td>0.000000</td>\n",
       "      <td>0.0</td>\n",
       "      <td>...</td>\n",
       "      <td>0.000000</td>\n",
       "      <td>0.00000</td>\n",
       "      <td>0.0</td>\n",
       "      <td>0.0</td>\n",
       "      <td>0.000000</td>\n",
       "      <td>0.0</td>\n",
       "      <td>0.0</td>\n",
       "      <td>0.0</td>\n",
       "      <td>0.0</td>\n",
       "      <td>0.0</td>\n",
       "    </tr>\n",
       "    <tr>\n",
       "      <th>23</th>\n",
       "      <td>129.310345</td>\n",
       "      <td>10.853835</td>\n",
       "      <td>0.000000</td>\n",
       "      <td>0.0</td>\n",
       "      <td>41.74397</td>\n",
       "      <td>48.701299</td>\n",
       "      <td>101.809955</td>\n",
       "      <td>5.676085</td>\n",
       "      <td>18.796992</td>\n",
       "      <td>0.0</td>\n",
       "      <td>...</td>\n",
       "      <td>89.554795</td>\n",
       "      <td>42.82345</td>\n",
       "      <td>0.0</td>\n",
       "      <td>0.0</td>\n",
       "      <td>13.605542</td>\n",
       "      <td>0.0</td>\n",
       "      <td>0.0</td>\n",
       "      <td>0.0</td>\n",
       "      <td>0.0</td>\n",
       "      <td>0.0</td>\n",
       "    </tr>\n",
       "  </tbody>\n",
       "</table>\n",
       "<p>5 rows × 82 columns</p>\n",
       "</div>"
      ],
      "text/plain": [
       "user_id_submissions         3          13         14   17        18   \\\n",
       "id_assignments                                                         \n",
       "14                     0.000000   0.000000   0.000000  0.0   0.00000   \n",
       "15                     0.000000   0.000000   0.000000  0.0   0.00000   \n",
       "17                     0.000000  45.317221  18.796992  0.0   0.00000   \n",
       "20                     0.000000   0.000000   0.000000  0.0   0.00000   \n",
       "23                   129.310345  10.853835   0.000000  0.0  41.74397   \n",
       "\n",
       "user_id_submissions        19          20        21         22   23  ...   \\\n",
       "id_assignments                                                       ...    \n",
       "14                    0.000000    0.000000  0.000000   0.000000  0.0 ...    \n",
       "15                    0.000000    0.000000  0.000000   0.000000  0.0 ...    \n",
       "17                    0.000000    0.000000  7.299270   0.000000  0.0 ...    \n",
       "20                    0.000000    0.000000  0.000000   0.000000  0.0 ...    \n",
       "23                   48.701299  101.809955  5.676085  18.796992  0.0 ...    \n",
       "\n",
       "user_id_submissions        91        92   93   95         96   98   100  101  \\\n",
       "id_assignments                                                                 \n",
       "14                    0.000000   0.00000  0.0  0.0   0.000000  0.0  0.0  0.0   \n",
       "15                   12.744164   0.00000  0.0  0.0  18.151846  0.0  0.0  0.0   \n",
       "17                    0.000000   0.00000  0.0  0.0   0.000000  0.0  0.0  0.0   \n",
       "20                    0.000000   0.00000  0.0  0.0   0.000000  0.0  0.0  0.0   \n",
       "23                   89.554795  42.82345  0.0  0.0  13.605542  0.0  0.0  0.0   \n",
       "\n",
       "user_id_submissions  103  104  \n",
       "id_assignments                 \n",
       "14                   0.0  0.0  \n",
       "15                   0.0  0.0  \n",
       "17                   0.0  0.0  \n",
       "20                   0.0  0.0  \n",
       "23                   0.0  0.0  \n",
       "\n",
       "[5 rows x 82 columns]"
      ]
     },
     "execution_count": 22,
     "metadata": {},
     "output_type": "execute_result"
    }
   ],
   "source": [
    "user_submissions_pivot = user_submissions.pivot_table(values='confidence', index='id_assignments', columns='user_id_submissions', fill_value=0)\n",
    "user_submissions.to_csv(model_path + 'user_submissions.csv', index=False)\n",
    "user_submissions_pivot.to_csv(model_path + 'user_submissions_pivot.csv')\n",
    "user_submissions_pivot.head()"
   ]
  },
  {
   "cell_type": "code",
   "execution_count": 23,
   "metadata": {},
   "outputs": [
    {
     "data": {
      "text/plain": [
       "75.00432451133022"
      ]
     },
     "execution_count": 23,
     "metadata": {},
     "output_type": "execute_result"
    }
   ],
   "source": [
    "matrix_size = user_submissions_pivot.shape[0] * user_submissions_pivot.shape[1] \n",
    "interactions = user_submissions_pivot.astype(bool).sum(axis=0).sum()\n",
    "sparsity = 100 * (1 - (interactions / matrix_size))\n",
    "sparsity"
   ]
  },
  {
   "cell_type": "markdown",
   "metadata": {},
   "source": [
    "### Creating a Training and Validation Set"
   ]
  },
  {
   "cell_type": "markdown",
   "metadata": {},
   "source": [
    "#### Hide a certain percentage of the user/item interactions from the model_als during the training phase chosen at random."
   ]
  },
  {
   "cell_type": "markdown",
   "metadata": {},
   "source": [
    "This function will take in the original user-assignment matrix and \"mask\" a percentage of the original id_assignments where a user-assignment interaction has taken place for use as a test set. The test set will contain all of the original assignments, while the training set replaces the specified percentage of them with a zero in the original assignments matrix. \n",
    "    \n",
    "* **parameters**: \n",
    "    \n",
    "    1. **id_assignments** - the original id_assignments matrix from which you want to generate a train/test set. Test is just a complete copy of the original set. This is in the form of a sparse csr_matrix. \n",
    "    \n",
    "    2. **pct_test** - The percentage of user-assignment interactions where an interaction took place that you want to mask in the training set for later comparison to the test set, which contains all of the original id_assignments. \n",
    "    \n",
    "* **returns**:\n",
    "    \n",
    "    1. **training_set** - The altered version of the original data with a certain percentage of the user-assignment pairs that originally had interaction set back to zero.\n",
    "    \n",
    "    2. **test_set** - A copy of the original id_assignments matrix, unaltered, so it can be used to see how the rank order compares with the actual interactions.\n",
    "    \n",
    "    3. **user_inds** - From the randomly selected user-assignment indices, which user rows were altered in the training data. This will be necessary later when evaluating the performance via AUC."
   ]
  },
  {
   "cell_type": "code",
   "execution_count": 24,
   "metadata": {},
   "outputs": [],
   "source": [
    "def make_train(id_assignments, pct_test = 0.2):\n",
    "    # Make a copy of the original set to be the test set. \n",
    "    test_set = id_assignments.copy() \n",
    "    \n",
    "    # Store the test set as a binary preference matrix\n",
    "    test_set[test_set != 0] = 1 \n",
    "    \n",
    "    # Make a copy of the original data we can alter as our training set. \n",
    "    training_set = id_assignments.copy() \n",
    "    \n",
    "    # Find the indices in the assignments data where an interaction exists\n",
    "    nonzero_inds = training_set.nonzero() \n",
    "    \n",
    "    # Zip these pairs together of user,item index into list\n",
    "    nonzero_pairs = list(zip(nonzero_inds[0], nonzero_inds[1])) \n",
    "    \n",
    "    # Set the random seed to zero for reproducibility\n",
    "    random.seed(0) \n",
    "    \n",
    "    # Round the number of samples needed to the nearest integer\n",
    "    num_samples = int(np.ceil(pct_test * len(nonzero_pairs))) \n",
    "    \n",
    "    # Sample a random number of user-item pairs without replacement\n",
    "    samples = random.sample(nonzero_pairs, num_samples) \n",
    "    \n",
    "    # Get the user row indices\n",
    "    user_inds = [index[0] for index in samples] \n",
    "    \n",
    "    # Get the item column indices\n",
    "    assignment_inds = [index[1] for index in samples] \n",
    "    \n",
    "    # Assign all of the randomly chosen user-item pairs to zero\n",
    "    training_set[user_inds, assignment_inds] = 0 \n",
    "    \n",
    "    # Get rid of zeros in sparse array storage after update to save space\n",
    "    training_set.eliminate_zeros() \n",
    "    \n",
    "    # Output the unique list of user rows that were altered  \n",
    "    return training_set, test_set, list(set(user_inds)) "
   ]
  },
  {
   "cell_type": "code",
   "execution_count": 25,
   "metadata": {},
   "outputs": [],
   "source": [
    "assignment_train, assignment_test, assignment_users_altered = make_train(sparse.csr_matrix(user_submissions_pivot.values), pct_test = 0.2)"
   ]
  },
  {
   "cell_type": "markdown",
   "metadata": {},
   "source": [
    "### Saving the model_als"
   ]
  },
  {
   "cell_type": "code",
   "execution_count": 26,
   "metadata": {},
   "outputs": [
    {
     "name": "stderr",
     "output_type": "stream",
     "text": [
      "WARNING:root:OpenBLAS detected. Its highly recommend to set the environment variable 'export OPENBLAS_NUM_THREADS=1' to disable its internal multithreading\n",
      "100%|█████████████████████████████████████████████████████████████████████████████████| 5.0/5 [00:00<00:00, 285.82it/s]\n"
     ]
    },
    {
     "data": {
      "text/plain": [
       "['../ml-api/model/user_assignments_model_als.pkl']"
      ]
     },
     "execution_count": 26,
     "metadata": {},
     "output_type": "execute_result"
    }
   ],
   "source": [
    "model_als = implicit.als.AlternatingLeastSquares(factors=32, regularization = 0.29, iterations = 5)\n",
    "model_als.fit(assignment_train)\n",
    "\n",
    "user_vecs_als = model_als.item_factors\n",
    "item_vecs_als = model_als.user_factors\n",
    "\n",
    "filename = 'user_assignments_model_als.pkl'\n",
    "joblib.dump(model_als, model_path + filename)"
   ]
  },
  {
   "cell_type": "markdown",
   "metadata": {},
   "source": [
    "### Saving the model_bayes"
   ]
  },
  {
   "cell_type": "code",
   "execution_count": 27,
   "metadata": {},
   "outputs": [
    {
     "name": "stderr",
     "output_type": "stream",
     "text": [
      "100%|█████████████████████████████████████████████████| 50/50 [00:00<00:00, 452.48it/s, correct=91.32%, skipped=39.71%]\n"
     ]
    },
    {
     "data": {
      "text/plain": [
       "['../ml-api/model/user_assignments_model_bayes.pkl']"
      ]
     },
     "execution_count": 27,
     "metadata": {},
     "output_type": "execute_result"
    }
   ],
   "source": [
    "model_bayes = implicit.bpr.BayesianPersonalizedRanking(factors=95, learning_rate=0.2, regularization = 0.1, iterations = 50)\n",
    "model_bayes.fit(assignment_train)\n",
    "\n",
    "user_vecs_bayes = model_bayes.item_factors\n",
    "item_vecs_bayes = model_bayes.user_factors\n",
    "\n",
    "filename = 'user_assignments_model_bayes.pkl'\n",
    "joblib.dump(model_bayes, model_path + filename)"
   ]
  },
  {
   "cell_type": "markdown",
   "metadata": {},
   "source": [
    "### Testing out the model_als for one user and one assignment"
   ]
  },
  {
   "cell_type": "code",
   "execution_count": 28,
   "metadata": {},
   "outputs": [],
   "source": [
    "user_id = 37\n",
    "assignment_id = 344\n",
    "user_assignments = list(user_submissions[user_submissions['user_id_submissions'] == user_id]['id_assignments'])\n",
    "\n",
    "user_id_index = list(user_submissions_pivot.columns).index(user_id)\n",
    "assignment_id_index = list(user_submissions_pivot.index).index(assignment_id)"
   ]
  },
  {
   "cell_type": "code",
   "execution_count": 29,
   "metadata": {},
   "outputs": [],
   "source": [
    "user_recommendations_als = model_als.recommend(user_id_index, sparse.csr_matrix(user_submissions_pivot.values), N=20)"
   ]
  },
  {
   "cell_type": "code",
   "execution_count": 30,
   "metadata": {},
   "outputs": [],
   "source": [
    "user_recommendations_bayes = model_bayes.recommend(user_id_index, sparse.csr_matrix(user_submissions_pivot.values), N=20)"
   ]
  },
  {
   "cell_type": "code",
   "execution_count": 31,
   "metadata": {},
   "outputs": [],
   "source": [
    "related_assignments_als = model_als.similar_items(assignment_id_index, N=20)"
   ]
  },
  {
   "cell_type": "code",
   "execution_count": 32,
   "metadata": {},
   "outputs": [],
   "source": [
    "related_assignments_bayes = model_bayes.similar_items(assignment_id_index, N=20)"
   ]
  },
  {
   "cell_type": "code",
   "execution_count": 33,
   "metadata": {},
   "outputs": [
    {
     "data": {
      "text/plain": [
       "29      33\n",
       "51      17\n",
       "135     50\n",
       "132     41\n",
       "60      37\n",
       "54      32\n",
       "66      74\n",
       "103     41\n",
       "0       23\n",
       "15     131\n",
       "39      62\n",
       "115     80\n",
       "140     65\n",
       "30      34\n",
       "53      30\n",
       "90     100\n",
       "13     106\n",
       "86      77\n",
       "114     78\n",
       "62      55\n",
       "Name: id_assignments, dtype: int64"
      ]
     },
     "execution_count": 33,
     "metadata": {},
     "output_type": "execute_result"
    }
   ],
   "source": [
    "list_of_recommended_submissions_als = [i[0] for i in user_recommendations_als]\n",
    "list_of_recommended_submissions_als = user_submissions['id_assignments'][list_of_recommended_submissions_als]\n",
    "list_of_recommended_submissions_als"
   ]
  },
  {
   "cell_type": "code",
   "execution_count": 34,
   "metadata": {},
   "outputs": [
    {
     "data": {
      "text/plain": [
       "110     73\n",
       "62      55\n",
       "74      37\n",
       "16     134\n",
       "72      33\n",
       "33      41\n",
       "59      27\n",
       "65      73\n",
       "134     49\n",
       "34      47\n",
       "139     62\n",
       "66      74\n",
       "64      65\n",
       "60      37\n",
       "32      37\n",
       "111     74\n",
       "21     367\n",
       "98      23\n",
       "30      34\n",
       "18     147\n",
       "Name: id_assignments, dtype: int64"
      ]
     },
     "execution_count": 34,
     "metadata": {},
     "output_type": "execute_result"
    }
   ],
   "source": [
    "list_of_recommended_submissions_bayes = [i[0] for i in user_recommendations_bayes]\n",
    "list_of_recommended_submissions_bayes = user_submissions['id_assignments'][list_of_recommended_submissions_bayes]\n",
    "list_of_recommended_submissions_bayes"
   ]
  },
  {
   "cell_type": "code",
   "execution_count": 35,
   "metadata": {},
   "outputs": [
    {
     "data": {
      "text/plain": [
       "99      27\n",
       "58      50\n",
       "90     100\n",
       "63      62\n",
       "18     147\n",
       "62      55\n",
       "101     36\n",
       "111     74\n",
       "41      73\n",
       "8       71\n",
       "110     73\n",
       "55      33\n",
       "106     50\n",
       "5       62\n",
       "43      75\n",
       "36      50\n",
       "60      37\n",
       "2       33\n",
       "108     62\n",
       "20     349\n",
       "Name: id_assignments, dtype: int64"
      ]
     },
     "execution_count": 35,
     "metadata": {},
     "output_type": "execute_result"
    }
   ],
   "source": [
    "list_of_related_submissions_als = [i[0] for i in related_assignments_als]\n",
    "list_of_related_submissions_als = user_submissions['id_assignments'][list_of_related_submissions_als]\n",
    "list_of_related_submissions_als"
   ]
  },
  {
   "cell_type": "code",
   "execution_count": 36,
   "metadata": {},
   "outputs": [
    {
     "data": {
      "text/plain": [
       "99      27\n",
       "115     80\n",
       "121    320\n",
       "123    322\n",
       "122    321\n",
       "118    104\n",
       "90     100\n",
       "117    100\n",
       "96     323\n",
       "119    106\n",
       "52      26\n",
       "20     349\n",
       "2       33\n",
       "12     102\n",
       "101     36\n",
       "114     78\n",
       "120    319\n",
       "36      50\n",
       "48     322\n",
       "46     319\n",
       "Name: id_assignments, dtype: int64"
      ]
     },
     "execution_count": 36,
     "metadata": {},
     "output_type": "execute_result"
    }
   ],
   "source": [
    "list_of_related_submissions_bayes = [i[0] for i in related_assignments_bayes]\n",
    "list_of_related_submissions_bayes = user_submissions['id_assignments'][list_of_related_submissions_bayes]\n",
    "list_of_related_submissions_bayes"
   ]
  },
  {
   "cell_type": "code",
   "execution_count": 37,
   "metadata": {},
   "outputs": [
    {
     "data": {
      "text/plain": [
       "Index(['assignment_id', 'code_submissions', 'created_at_submissions', 'fail',\n",
       "       'id_submissions', 'is_checked', 'language', 'output', 'pass',\n",
       "       'points_submissions', 'practice_id', 'statement', 'time_in_seconds',\n",
       "       'total', 'updated_at_submissions', 'user_id_submissions', 'approved',\n",
       "       'body', 'code_assignments', 'created_at_assignments', 'display_helper',\n",
       "       'function_name', 'id_assignments', 'input_size', 'is_allowed',\n",
       "       'is_front_end', 'minutes', 'points_assignments', 'source', 'title',\n",
       "       'updated_at_assignments', 'url', 'user_id_assignments'],\n",
       "      dtype='object')"
      ]
     },
     "execution_count": 37,
     "metadata": {},
     "output_type": "execute_result"
    }
   ],
   "source": [
    "submission_assignments.columns"
   ]
  },
  {
   "cell_type": "code",
   "execution_count": 38,
   "metadata": {},
   "outputs": [
    {
     "data": {
      "text/plain": [
       "array(['Max Of Three', 'Sum Cart', 'Zoo Inventory', 'Count Up then Down',\n",
       "       'Stock Portfolio', 'Authenticate!!!', 'Count By M',\n",
       "       'Frequency Counter', 'Password Generator', 'Say Again',\n",
       "       'Function Runner', 'Parameterize', 'First n elements in array',\n",
       "       'Last n Elements', 'Join Array Elements', 'Print Array',\n",
       "       'Sort Array ', 'Pet Name Generator', 'Clear Array'], dtype=object)"
      ]
     },
     "execution_count": 38,
     "metadata": {},
     "output_type": "execute_result"
    }
   ],
   "source": [
    "submission_assignments[submission_assignments['id_assignments'].isin(list_of_recommended_submissions_als)]['title'].unique()"
   ]
  },
  {
   "cell_type": "code",
   "execution_count": 39,
   "metadata": {},
   "outputs": [
    {
     "data": {
      "text/plain": [
       "array(['Sum Cart', 'Count Up then Down', 'Authenticate!!!',\n",
       "       'Frequency Counter', 'Proper Noun Filter', 'Array or not',\n",
       "       'Password Generator', 'Say Again', 'Remove Zeros',\n",
       "       'Function Runner', 'Specific string', 'Parameterize',\n",
       "       'Pet Name Generator', 'Filter Values', 'Fullstack Jack',\n",
       "       'Dom - Generate a Random Number'], dtype=object)"
      ]
     },
     "execution_count": 39,
     "metadata": {},
     "output_type": "execute_result"
    }
   ],
   "source": [
    "submission_assignments[submission_assignments['id_assignments'].isin(list_of_recommended_submissions_bayes)]['title'].unique()"
   ]
  },
  {
   "cell_type": "code",
   "execution_count": 40,
   "metadata": {},
   "outputs": [
    {
     "data": {
      "text/plain": [
       "array(['Sum Cart', 'Stock Portfolio', 'Authenticate!!!',\n",
       "       'Frequency Counter', 'Array or not', 'Clone Array', 'Round Town',\n",
       "       'Parameterize', 'Sort Array ', 'Pet Name Generator',\n",
       "       'string in abbreviated form', 'Filter Values', 'Fullstack Jack',\n",
       "       'Sum positive Numbers'], dtype=object)"
      ]
     },
     "execution_count": 40,
     "metadata": {},
     "output_type": "execute_result"
    }
   ],
   "source": [
    "submission_assignments[submission_assignments['id_assignments'].isin(list_of_related_submissions_als)]['title'].unique()"
   ]
  },
  {
   "cell_type": "code",
   "execution_count": 41,
   "metadata": {},
   "outputs": [
    {
     "data": {
      "text/plain": [
       "array(['Highlight Landmarks', 'The Array Cafe', 'Stock Portfolio',\n",
       "       'Authenticate!!!', 'Round Town', 'Last n Elements',\n",
       "       'Join Array Elements', 'Print Array', 'Find a word', 'Swap Case',\n",
       "       'Sort Array ', 'Date Ranges', 'User Count', 'Valid Date',\n",
       "       'Party on Pay Day', 'Fullstack Jack', 'Sum positive Numbers'],\n",
       "      dtype=object)"
      ]
     },
     "execution_count": 41,
     "metadata": {},
     "output_type": "execute_result"
    }
   ],
   "source": [
    "submission_assignments[submission_assignments['id_assignments'].isin(list_of_related_submissions_bayes)]['title'].unique()"
   ]
  },
  {
   "cell_type": "markdown",
   "metadata": {},
   "source": [
    "### Evaluating the Recommender System"
   ]
  },
  {
   "cell_type": "markdown",
   "metadata": {},
   "source": [
    "This simple function will output the area under the curve using sklearn's metrics. \n",
    "    \n",
    "* **parameters**:\n",
    "    \n",
    "   1. **predictions**: your prediction output\n",
    "    \n",
    "   2. **test**: the actual target result you are comparing to\n",
    "* **returns**:\n",
    "    \n",
    "   1. AUC (area under the Receiver Operating Characterisic curve)"
   ]
  },
  {
   "cell_type": "code",
   "execution_count": 42,
   "metadata": {},
   "outputs": [],
   "source": [
    "def auc_score(predictions, test):\n",
    "    \n",
    "    fpr, tpr, thresholds = metrics.roc_curve(test, predictions)\n",
    "    return metrics.auc(fpr, tpr)   "
   ]
  },
  {
   "cell_type": "markdown",
   "metadata": {},
   "source": [
    "This function will calculate the mean AUC by user for any user that had their user-item matrix altered. \n",
    "    \n",
    "* **parameters**:\n",
    "    \n",
    "    1. **training_set** - The training set resulting from make_train, where a certain percentage of the original\n",
    "    user/item interactions are reset to zero to hide them from the model_als \n",
    "    \n",
    "    2. **predictions** - The matrix of your predicted assignments for each user/item pair as output from the implicit MF.\n",
    "    These should be stored in a list, with user vectors as item zero and item vectors as item one. \n",
    "    \n",
    "    3. **altered_users** - The indices of the users where at least one user/item pair was altered from make_train function\n",
    "    \n",
    "    4. **test_set** - The test set constucted earlier from make_train function\n",
    "    \n",
    "    \n",
    "    \n",
    "* **returns**:\n",
    "    \n",
    "   1. **The mean AUC** (area under the Receiver Operator Characteristic curve) of the test set only on user-item interactions\n",
    "    there were originally zero to test ranking ability in addition to the most popular items as a benchmark."
   ]
  },
  {
   "cell_type": "code",
   "execution_count": 43,
   "metadata": {},
   "outputs": [],
   "source": [
    "def calc_mean_auc(training_set, altered_users, predictions, test_set):\n",
    "    # An empty list to store the AUC for each user that had an item removed from the training set\n",
    "    store_auc = [] \n",
    "    \n",
    "    # To store popular AUC scores\n",
    "    popularity_auc = [] \n",
    "    \n",
    "    # Get sum of item iteractions to find most popular\n",
    "    pop_items = np.array(test_set.sum(axis = 0)).reshape(-1) \n",
    "    item_vecs_als = predictions[1]\n",
    "    \n",
    "    # Iterate through each user that had an item altered\n",
    "    for user in altered_users[:50]: \n",
    "        \n",
    "        # Get the training set row\n",
    "        training_row = training_set[user, :].toarray().reshape(-1)\n",
    "        \n",
    "        # Find where the interaction had not yet occurred\n",
    "        zero_inds = np.where(training_row == 0) \n",
    "        \n",
    "        # Get the predicted values based on our user/item vectors\n",
    "        user_vec = predictions[0][user, :]\n",
    "        pred = user_vec.dot(item_vecs_als)[zero_inds[0]].reshape(-1)\n",
    "        \n",
    "        # Get only the items that were originally zero\n",
    "        # Select all assignments from the MF prediction for this user that originally had no iteraction\n",
    "        actual = test_set[user,:].toarray()[0,zero_inds].reshape(-1) \n",
    "        \n",
    "        # Select the binarized yes/no interaction pairs from the original full data\n",
    "        # that align with the same pairs in training \n",
    "        pop = pop_items[zero_inds] # Get the item popularity for our chosen items\n",
    "        store_auc.append(auc_score(pred, actual)) # Calculate AUC for the given user and store\n",
    "        popularity_auc.append(auc_score(pop, actual)) # Calculate AUC using most popular and score\n",
    "        # End users iteration\n",
    "\n",
    "    # Return the mean AUC rounded to three decimal places for both test and popularity benchmark    \n",
    "    return float('%.3f'%np.mean(store_auc)), float('%.3f'%np.mean(popularity_auc))  "
   ]
  },
  {
   "cell_type": "code",
   "execution_count": 44,
   "metadata": {},
   "outputs": [
    {
     "data": {
      "text/plain": [
       "(0.961, 0.686)"
      ]
     },
     "execution_count": 44,
     "metadata": {},
     "output_type": "execute_result"
    }
   ],
   "source": [
    "calc_mean_auc(assignment_train, assignment_users_altered, [user_vecs_als, item_vecs_als.T], assignment_test)\n",
    "# AUC for our recommender system"
   ]
  },
  {
   "cell_type": "code",
   "execution_count": 45,
   "metadata": {},
   "outputs": [
    {
     "data": {
      "text/plain": [
       "(0.879, 0.686)"
      ]
     },
     "execution_count": 45,
     "metadata": {},
     "output_type": "execute_result"
    }
   ],
   "source": [
    "calc_mean_auc(assignment_train, assignment_users_altered, [user_vecs_bayes, item_vecs_bayes.T], assignment_test)\n",
    "# AUC for our recommender system"
   ]
  },
  {
   "cell_type": "code",
   "execution_count": 46,
   "metadata": {},
   "outputs": [],
   "source": [
    "# factors = np.arange(32, 1000, 32)\n",
    "# regu = np.arange(0.01, 2, 0.01)\n",
    "# iterations = np.arange(1, 10, 1)\n",
    "\n",
    "# def tune_parameters(assignment_train, assignment_users_altered, user_vecs_als, item_vecs_als, assignment_test):\n",
    "#     mean_auc = (0, 0)\n",
    "    \n",
    "#     for i in factors:\n",
    "#         for j in regu:\n",
    "#             for k in iterations:                \n",
    "#                 mean_auc = calc_mean_auc(assignment_train, assignment_users_altered, [user_vecs_als, item_vecs_als.T], assignment_test)\n",
    "#                 model_als = implicit.als.AlternatingLeastSquares(factors=i, regularization = j, iterations = k)\n",
    "#                 model_als.fit(assignment_train)\n",
    "\n",
    "#                 user_vecs_als = model_als.item_factors\n",
    "#                 item_vecs_als = model_als.user_factors\n",
    "                \n",
    "#                 if mean_auc[0] > 0.96:\n",
    "#                     print(mean_auc, i, j, k)\n",
    "#                     return\n",
    "                \n",
    "                    \n",
    "# tune_parameters(assignment_train, assignment_users_altered, user_vecs_als, item_vecs_als, assignment_test)      "
   ]
  },
  {
   "cell_type": "code",
   "execution_count": 47,
   "metadata": {},
   "outputs": [],
   "source": [
    "# factors = np.arange(95, 1000, 31)\n",
    "# regu = np.arange(0.1, 2, 0.1)\n",
    "# iterations = np.arange(69, 100, 1)\n",
    "# l_rate = np.arange(0.3, 2, 0.1)\n",
    "\n",
    "# def tune_parameters(assignment_train, assignment_users_altered, user_vecs_bayes, item_vecs_bayes, assignment_test):\n",
    "#     mean_auc = (0, 0)\n",
    "    \n",
    "#     for i in factors:\n",
    "#         for j in regu:\n",
    "#             for k in iterations:  \n",
    "#                 for l in l_rate:\n",
    "#                     try:\n",
    "#                         mean_auc = calc_mean_auc(assignment_train, assignment_users_altered, [user_vecs_bayes, item_vecs_bayes.T], assignment_test)\n",
    "#                     except Exception:\n",
    "#                         pass\n",
    "                    \n",
    "#                     model_bayes = implicit.bpr.BayesianPersonalizedRanking(factors=i, learning_rate=l, regularization = j, iterations = k, use_gpu=True)\n",
    "#                     model_bayes.fit(assignment_train)\n",
    "\n",
    "#                     user_vecs_bayes = model_bayes.item_factors\n",
    "#                     item_vecs_bayes = model_bayes.user_factors\n",
    "\n",
    "#                     print(mean_auc, i, j, k, l)\n",
    "                    \n",
    "#                     if mean_auc[0] > 0.96:\n",
    "#                         print(mean_auc, i, j, k, l)\n",
    "#                         return\n",
    "                \n",
    "                    \n",
    "# tune_parameters(assignment_train, assignment_users_altered, user_vecs_bayes, item_vecs_bayes, assignment_test)      "
   ]
  }
 ],
 "metadata": {
  "kernelspec": {
   "display_name": "Python 3",
   "language": "python",
   "name": "python3"
  },
  "language_info": {
   "codemirror_mode": {
    "name": "ipython",
    "version": 3
   },
   "file_extension": ".py",
   "mimetype": "text/x-python",
   "name": "python",
   "nbconvert_exporter": "python",
   "pygments_lexer": "ipython3",
   "version": "3.6.6"
  }
 },
 "nbformat": 4,
 "nbformat_minor": 2
}
